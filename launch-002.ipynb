!python Marrowbone-Island-002-Tuesday.py
