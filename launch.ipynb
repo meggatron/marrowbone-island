# Marrowbone Island Launcher

import ipywidgets as widgets
from IPython.display import display

versions = {
    "Tuesday – Variables & Input (002)": "Marrowbone-Island-002-Tuesday.py",
    "Wednesday – Loops & Lists (003)": "Marrowbone-Island-003-Wednesday.py",
    "Thursday – Algorithms & Debugging (004)": "Marrowbone-Island-004-Thursday.py",
    "Friday – Functions (005)": "Marrowbone-Island-005-Friday.py",
    "Monday – Dictionaries (006)": "Marrowbone-Island-006-Monday.py",
    "Tuesday – File I/O (007)": "Marrowbone-Island-007-Tuesday.py",
    "Wednesday – Nested Logic (008)": "Marrowbone-Island-008-Wednesday.py",
    "Thursday – Easter Egg (009)": "Marrowbone-Island-009-Thursday.py",
    "Friday – More Locations (010)": "Marrowbone-Island-010-Friday.py"
}

dropdown = widgets.Dropdown(
    options=versions,
    description='Version:',
    layout=widgets.Layout(width='80%')
)

button = widgets.Button(description="Run", button_style='success')

def run_selected(b):
    file = dropdown.value
    print(f"Running {file}...\n")
    !python "{file}"

button.on_click(run_selected)

display(dropdown, button)
