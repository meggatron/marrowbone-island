{
 "cells": [
  {
   "cell_type": "code",
   "execution_count": null,
   "metadata": {},
   "outputs": [],
   "source": [
    "import ipywidgets as widgets\n",
    "from IPython.display import display\n",
    "\n",
    "versions = {\n",
    "    \"Tuesday – Variables & Input (002)\": \"Marrowbone-Island-002-Tuesday.py\",\n",
    "    \"Wednesday – Loops & Lists (003)\": \"Marrowbone-Island-003-Wednesday.py\",\n",
    "    \"Thursday – Algorithms & Debugging (004)\": \"Marrowbone-Island-004-Thursday.py\",\n",
    "    \"Friday – Functions (005)\": \"Marrowbone-Island-005-Friday.py\",\n",
    "    \"Monday – Dictionaries (006)\": \"Marrowbone-Island-006-Monday.py\",\n",
    "    \"Tuesday – File I/O (007)\": \"Marrowbone-Island-007-Tuesday.py\",\n",
    "    \"Wednesday – Nested Logic (008)\": \"Marrowbone-Island-008-Wednesday.py\",\n",
    "    \"Thursday – Easter Egg (009)\": \"Marrowbone-Island-009-Thursday.py\",\n",
    "    \"Friday – More Locations (010)\": \"Marrowbone-Island-010-Friday.py\"\n",
    "}\n",
    "\n",
    "dropdown = widgets.Dropdown(\n",
    "    options=versions,\n",
    "    description='Version:',\n",
    "    layout=widgets.Layout(width='80%')\n",
    ")\n",
    "\n",
    "button = widgets.Button(description=\"Run\", button_style='success')\n",
    "\n",
    "def run_selected(b):\n",
    "    file = dropdown.value\n",
    "    print(f\"Running {file}...\\n\")\n",
    "    !python \"{file}\"\n",
    "\n",
    "button.on_click(run_selected)\n",
    "\n",
    "display(dropdown, button)"
   ]
  }
 ],
 "metadata": {
  "kernelspec": {
   "display_name": "Python 3",
   "language": "python",
   "name": "python3"
  },
  "language_info": {
   "name": "python"
  }
 },
 "nbformat": 4,
 "nbformat_minor": 5
}
